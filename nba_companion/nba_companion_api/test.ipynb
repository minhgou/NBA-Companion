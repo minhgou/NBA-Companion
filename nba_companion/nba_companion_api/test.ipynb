{
 "cells": [
  {
   "cell_type": "code",
   "execution_count": 3,
   "metadata": {},
   "outputs": [],
   "source": [
    "from nba_api.stats.endpoints import playercareerstats, playergamelog, playergamelogs\n",
    "from nba_api.stats.static import players\n",
    "import pandas as pd\n",
    "from io import BytesIO"
   ]
  },
  {
   "cell_type": "code",
   "execution_count": 7,
   "metadata": {},
   "outputs": [],
   "source": [
    "def get_player_id_from_name(player_name):\n",
    "    all_players = players.get_players()\n",
    "    for player in all_players:\n",
    "        if player['full_name'].lower() == player_name.lower():\n",
    "            return player['id']\n",
    "    return None"
   ]
  },
  {
   "cell_type": "code",
   "execution_count": 32,
   "metadata": {},
   "outputs": [],
   "source": [
    "player_name = \"Luka Doncic\"\n",
    "player_id = get_player_id_from_name(player_name)\n",
    "url = f'https://cdn.nba.com/headshots/nba/latest/1040x760/{player_id}.png'\n",
    "\n",
    "response = requests.get(url)\n",
    "img = Image.open(BytesIO(response.content))\n",
    "img = await deeppyer.deepfry(img, flares=False)\n",
    "img.save('./bar.jpg')"
   ]
  },
  {
   "cell_type": "code",
   "execution_count": 28,
   "metadata": {},
   "outputs": [
    {
     "data": {
      "text/plain": [
       "{'FULL_NAME': 'LeBron James',\n",
       " 'GP': 1492,\n",
       " 'MIN': 56596,\n",
       " 'PTS': 40474,\n",
       " 'REB': 11185,\n",
       " 'AST': 11009,\n",
       " 'STL': 2275,\n",
       " 'BLK': 1111,\n",
       " 'TOV': 5211,\n",
       " 'FGM': 14837,\n",
       " 'FGA': 29313,\n",
       " 'FG_PCT': 50.8,\n",
       " 'FG3M': 2410,\n",
       " 'FG3A': 6926,\n",
       " 'FG3_PCT': 34.8,\n",
       " 'FTM': 8390,\n",
       " 'FTA': 11404,\n",
       " 'FT_PCT': 73.4,\n",
       " 'OREB': 1727,\n",
       " 'DREB': 9458,\n",
       " 'PF': 2682}"
      ]
     },
     "execution_count": 28,
     "metadata": {},
     "output_type": "execute_result"
    }
   ],
   "source": [
    "# Set player name and retrieve player ID\n",
    "player_name = \"LeBron James\"\n",
    "player_id = get_player_id_from_name(player_name)\n",
    "\n",
    "# Retrieve player career statistics\n",
    "career = playercareerstats.PlayerCareerStats(player_id=player_id)\n",
    "career_stats = career.get_data_frames()[0]\n",
    "\n",
    "# Define column lists\n",
    "totals_cols = ['MIN', 'PTS', 'REB', 'AST', 'STL', 'BLK', 'TOV', 'FGM', 'FGA',\n",
    "            'FG_PCT', 'FG3M', 'FG3A', 'FG3_PCT', 'FTM', 'FTA', 'FT_PCT',\n",
    "            'OREB', 'DREB', 'PF']\n",
    "per_game_cols = ['MPG', 'PPG', 'RPG', 'APG', 'SPG', 'BPG', 'TPG', 'FGM', 'FGA',\n",
    "                'FG_PCT', 'FG3M', 'FG3A', 'FG3_PCT', 'FTM', 'FTA', 'FT_PCT',\n",
    "                'ORPG', 'DRPG', 'PF']\n",
    "percentage_stats = ['FG_PCT', 'FG3_PCT', 'FT_PCT']\n",
    "\n",
    "# Career Totals\n",
    "career_totals_per_season = career_stats[['SEASON_ID', 'GP'] + totals_cols].copy()\n",
    "career_totals_per_season['FULL_NAME'] = player_name\n",
    "\n",
    "# Sum career totals and convert to int\n",
    "career_totals = {'FULL_NAME': player_name, 'GP': int(career_totals_per_season['GP'].sum())}\n",
    "career_totals.update(career_totals_per_season[totals_cols].sum().astype(int).to_dict())\n",
    "\n",
    "# Convert non-integer columns to int except for 'FULL_NAME', 'SEASON_ID', and percentage columns\n",
    "for col in career_totals_per_season.columns:\n",
    "    if col not in ['FULL_NAME', 'SEASON_ID'] + percentage_stats:\n",
    "        career_totals_per_season[col] = career_totals_per_season[col].astype(int)\n",
    "\n",
    "# Career Averages\n",
    "career_avg_per_season = pd.DataFrame(columns=['FULL_NAME', 'SEASON_ID', 'GP'] + per_game_cols)\n",
    "\n",
    "# Calculate per game averages\n",
    "for stat, per_game_stat in zip(totals_cols, per_game_cols):\n",
    "    career_avg_per_season[per_game_stat] = round(career_stats[stat] / career_stats['GP'], 1)\n",
    "\n",
    "career_avg_per_season['SEASON_ID'] = career_stats['SEASON_ID']\n",
    "career_avg_per_season['GP'] = career_stats['GP']\n",
    "career_avg_per_season['FULL_NAME'] = player_name\n",
    "\n",
    "# Calculate career averages\n",
    "career_averages = {'FULL_NAME': player_name, 'GP': int(career_avg_per_season['GP'].sum())}\n",
    "career_averages.update(round(career_avg_per_season[per_game_cols].mean(), 1).to_dict())\n",
    "\n",
    "# Convert percentage Stats\n",
    "for stat in percentage_stats:\n",
    "    career_avg_per_season[stat] = round(career_stats[stat] * 100, 1)\n",
    "    career_averages[stat] = round(career_avg_per_season[stat].mean(), 1)\n",
    "    career_totals_per_season[stat] = round(career_totals_per_season[stat] * 100, 1)\n",
    "    career_totals[stat] = round(career_avg_per_season[stat].mean(), 1)\n",
    "\n",
    "# Convert DataFrames to dictionaries\n",
    "career_totals_per_season_json = career_totals_per_season.to_dict(orient='records')\n",
    "career_avg_per_season_json = career_avg_per_season.to_dict(orient='records')\n",
    "\n",
    "career_totals"
   ]
  },
  {
   "cell_type": "code",
   "execution_count": 16,
   "metadata": {},
   "outputs": [
    {
     "data": {
      "text/plain": [
       "0.7332912988650695"
      ]
     },
     "execution_count": 16,
     "metadata": {},
     "output_type": "execute_result"
    }
   ],
   "source": [
    "5.538095238095238/7.55238095238095"
   ]
  },
  {
   "cell_type": "code",
   "execution_count": 56,
   "metadata": {},
   "outputs": [
    {
     "data": {
      "text/plain": [
       "'https://cdn.nba.com/headshots/nba/latest/1040x760/467.png'"
      ]
     },
     "execution_count": 56,
     "metadata": {},
     "output_type": "execute_result"
    }
   ],
   "source": [
    "def get_player_image(player_name):\n",
    "    \"\"\"\n",
    "    Gets NBA player headshot using player ID.\n",
    "\n",
    "    Args:\n",
    "        - player_name (str): Full name of current or former NBA player.\n",
    "\n",
    "    Returns:\n",
    "        - URL link to the headshot of NBA player.\n",
    "    \"\"\"\n",
    "\n",
    "    player_id = get_player_id_from_name(player_name=player_name)\n",
    "    url = f'https://cdn.nba.com/headshots/nba/latest/1040x760/{player_id}.png'\n",
    "\n",
    "    return url\n",
    "\n",
    "get_player_image(\"Jason Kidd\")"
   ]
  }
 ],
 "metadata": {
  "kernelspec": {
   "display_name": ".venv",
   "language": "python",
   "name": "python3"
  },
  "language_info": {
   "codemirror_mode": {
    "name": "ipython",
    "version": 3
   },
   "file_extension": ".py",
   "mimetype": "text/x-python",
   "name": "python",
   "nbconvert_exporter": "python",
   "pygments_lexer": "ipython3",
   "version": "3.10.7"
  }
 },
 "nbformat": 4,
 "nbformat_minor": 2
}
